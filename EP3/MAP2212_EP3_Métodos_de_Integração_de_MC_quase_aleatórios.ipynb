{
  "nbformat": 4,
  "nbformat_minor": 0,
  "metadata": {
    "colab": {
      "name": "MAP2212 - EP3 Métodos de Integração de MC quase aleatórios",
      "provenance": []
    },
    "kernelspec": {
      "name": "python3",
      "display_name": "Python 3"
    },
    "language_info": {
      "name": "python"
    }
  },
  "cells": [
    {
      "cell_type": "code",
      "source": [
        "pip install chaospy"
      ],
      "metadata": {
        "colab": {
          "base_uri": "https://localhost:8080/"
        },
        "id": "L7MAwJ-KZCNC",
        "outputId": "7f19ab88-2e3e-4c87-ad97-4dc977dad875"
      },
      "execution_count": null,
      "outputs": [
        {
          "output_type": "stream",
          "name": "stdout",
          "text": [
            "Requirement already satisfied: chaospy in /usr/local/lib/python3.7/dist-packages (4.3.7)\n",
            "Requirement already satisfied: numpy in /usr/local/lib/python3.7/dist-packages (from chaospy) (1.21.6)\n",
            "Requirement already satisfied: scipy in /usr/local/lib/python3.7/dist-packages (from chaospy) (1.4.1)\n",
            "Requirement already satisfied: numpoly in /usr/local/lib/python3.7/dist-packages (from chaospy) (1.2.3)\n"
          ]
        }
      ]
    },
    {
      "cell_type": "code",
      "execution_count": null,
      "metadata": {
        "id": "lgSWhLb7cfbu"
      },
      "outputs": [],
      "source": [
        "#!/usr/bin/env python3\n",
        "# -*- coding: utf-8 -*-\n",
        "\n",
        "#Escreva seu nome e numero USP\n",
        "INFO = {11811012:\"Vinícius da Costa Collaço\"}\n",
        "A = 0.460279  # A = 0.rg (6 dígitos siginificativos)\n",
        "B = 0.382023 # B = 0.cpf (6 dígitos siginificativos)"
      ]
    },
    {
      "cell_type": "code",
      "execution_count": null,
      "metadata": {
        "id": "oWRbXpGOYLNU"
      },
      "outputs": [],
      "source": [
        "#Bibliotecas\n",
        "import math\n",
        "import numpy as np\n",
        "import matplotlib.pyplot as plt\n",
        "import seaborn as sns\n",
        "import random\n",
        "import time\n",
        "import chaospy as cp\n"
      ]
    },
    {
      "cell_type": "code",
      "source": [
        "def gera_imagem():\n",
        "  \"\"\"\n",
        "  Funcao para gera imagem comparativa no relatorio\n",
        "  \"\"\"\n",
        "\n",
        "  uniform_cube = cp.J(cp.Uniform(0, 1),cp.Uniform(0,1))\n",
        "  exp_cube = cp.J(cp.TruncExponential(upper=1,scale=0.460279),cp.TruncExponential(upper=1,scale=0.460279))\n",
        "  count = 400\n",
        "\n",
        "  random_samples = uniform_cube.sample(count, rule=\"random\")\n",
        "  sobol_samples = uniform_cube.sample(count, rule=\"sobol\")\n",
        "  random_samples_te = exp_cube.sample(count, rule=\"random\")\n",
        "  sobol_samples_te = exp_cube.sample(count, rule=\"sobol\")\n",
        "\n",
        "\n",
        "  plt.rc(\"figure\", figsize=[14, 12])\n",
        "\n",
        "  plt.subplot(221)\n",
        "  plt.scatter(*random_samples, s=10, c='g')\n",
        "  plt.title(\"Distribuição uniforme pseudo aleatória\")\n",
        "\n",
        "\n",
        "  plt.subplot(222)\n",
        "  plt.scatter(*sobol_samples, s=10, c='r')\n",
        "  plt.title(\"Distribuição uniforme quase aleatória (Sobol)\")\n",
        "\n",
        "  plt.subplot(223)\n",
        "  plt.scatter(*random_samples_te, s=10, c='g')\n",
        "  plt.title(\"Distribuição exponencial pseudo aleatória\")\n",
        "\n",
        "  plt.subplot(224)\n",
        "  plt.scatter(*sobol_samples_te, s=10, c='r')\n",
        "  plt.title(\"Distribuição exponencial quase aleatória (Sobol)\")\n",
        "\n",
        "  plt.savefig('Comparacao_Distribuicao')"
      ],
      "metadata": {
        "id": "Fqw0gFFkZ-Xv"
      },
      "execution_count": null,
      "outputs": []
    },
    {
      "cell_type": "code",
      "source": [
        "def gera_ponto(n):\n",
        "  \"\"\"\n",
        "  Funcao para gerar um array com n pontos quase aleatorios\n",
        "  \"\"\"\n",
        "  dist_uniforme = cp.Uniform(0, 1)\n",
        "  x = dist_uniforme.sample(n, rule = \"sobol\")\n",
        "\n",
        "  return x"
      ],
      "metadata": {
        "id": "zm_RjRcNXbHH"
      },
      "execution_count": null,
      "outputs": []
    },
    {
      "cell_type": "code",
      "source": [
        "def gera_pontos(n):\n",
        "  \"\"\"\n",
        "  Funcao para gerar dois array com n pares de pontos quase aleatorios\n",
        "  \"\"\"\n",
        "\n",
        "  quadrado_uniforme = cp.J(cp.Uniform(0, 1), cp.Uniform(0, 1))\n",
        "  x = quadrado_uniforme.sample(n, rule = \"sobol\")\n",
        "\n",
        "  return x[0], x[1]"
      ],
      "metadata": {
        "id": "yaLpbhZ-XR8q"
      },
      "execution_count": null,
      "outputs": []
    },
    {
      "cell_type": "code",
      "source": [
        "def gera_ponto_exp(n):\n",
        "  \"\"\"\n",
        "  Funcao para gerar um array com n pontos quase aleatorios\n",
        "  com distribuicao exponencial truncada\n",
        "  \"\"\"\n",
        "  b = 0.460279\n",
        "  dist_exp = cp.TruncExponential(upper=1,scale=1/b)\n",
        "  x = dist_exp.sample(n, rule = \"sobol\")\n",
        "\n",
        "  return x\n"
      ],
      "metadata": {
        "id": "61ROsHiAXqEQ"
      },
      "execution_count": null,
      "outputs": []
    },
    {
      "cell_type": "code",
      "source": [
        "def indicadora (vetor):\n",
        "  \"\"\"\n",
        "  Indicadora da Hit or Miss (1 ou 0)\n",
        "  \"\"\"\n",
        "  true_or_false = vetor[1] <= f(vetor[0])\n",
        "\n",
        "  return np.where(true_or_false == True,1,0)"
      ],
      "metadata": {
        "id": "jDfaRaqwhPvF"
      },
      "execution_count": null,
      "outputs": []
    },
    {
      "cell_type": "code",
      "source": [
        "def f_sobre_g(x):\n",
        "  \"\"\"\n",
        "  Funcao agregada de f(x)/g(x) da importance sampling\n",
        "  \"\"\"\n",
        "  A = 0.460279  # A = 0.rg (6 dígitos siginificativos)\n",
        "  B = 0.382023 # B = 0.cpf (6 dígitos siginificativos)\n",
        "  f_sobre_g = (np.cos(B*x)*(1 - np.exp(-A)))/A\n",
        "\n",
        "  return f_sobre_g\n"
      ],
      "metadata": {
        "id": "hg2qTEe2P57O"
      },
      "execution_count": null,
      "outputs": []
    },
    {
      "cell_type": "code",
      "source": [
        "def phi(x):\n",
        "  \"\"\"\n",
        "  Funcao phi(x) controle do metodo control variate\n",
        "  \"\"\"\n",
        "  phi = (np.array(-x)/2.5) + 1\n",
        "  \n",
        "  return phi"
      ],
      "metadata": {
        "id": "E3VjwsCseqNu"
      },
      "execution_count": null,
      "outputs": []
    },
    {
      "cell_type": "code",
      "source": [
        "def f(x):\n",
        "  \"\"\"\n",
        "  Esta funcao deve receber x e devolver f(x), como especifcado no enunciado\n",
        "  Escreva o seu codigo nas proximas linhas\n",
        "  \"\"\"\n",
        "\n",
        "  A = 0.460279  # A = 0.rg (6 dígitos siginificativos)\n",
        "  B = 0.382023 # B = 0.cpf (6 dígitos siginificativos)\n",
        "  F = (np.exp(-A*x))*np.cos(B*x)\n",
        "  \n",
        "  return F"
      ],
      "metadata": {
        "id": "U8PbimNqdBaO"
      },
      "execution_count": null,
      "outputs": []
    },
    {
      "cell_type": "code",
      "source": [
        "def crude(Seed=None, n=352469):\n",
        "    \"\"\"\n",
        "    Esta funcao deve retornar a sua estimativa para o valor da integral de f(x)\n",
        "    usando o metodo crude\n",
        "    Escreva o seu codigo nas proximas linhas\n",
        "    \"\"\"\n",
        "    random.seed(Seed)\n",
        "    np.random.seed(Seed)\n",
        "\n",
        "    pontos = gera_ponto (n)\n",
        "    array_estimador = f(pontos)\n",
        "    estima_crude = np.sum(array_estimador)/n\n",
        "\n",
        "    return estima_crude"
      ],
      "metadata": {
        "id": "_Ao6hAhEdE9v"
      },
      "execution_count": null,
      "outputs": []
    },
    {
      "cell_type": "code",
      "source": [
        "def hit_or_miss(Seed=None, n=4334113):\n",
        "    \"\"\"\n",
        "    Esta funcao deve retornar a sua estimativa para o valor da integral de f(x)\n",
        "    usando o metodo hit or miss\n",
        "    Escreva o seu codigo nas proximas linhas\n",
        "    \"\"\"\n",
        "    random.seed(Seed)\n",
        "    np.random.seed(Seed)\n",
        "    \n",
        "    pontos = gera_pontos (n)\n",
        "    pontos_dentro = indicadora (pontos)\n",
        "    estima_HoM = sum(pontos_dentro)/n\n",
        "\n",
        "    return estima_HoM"
      ],
      "metadata": {
        "id": "94tOOCVidIyV"
      },
      "execution_count": null,
      "outputs": []
    },
    {
      "cell_type": "code",
      "source": [
        "def importance_sampling(Seed=None, n=6781):\n",
        "    \n",
        "    \"\"\"\n",
        "    Esta funcao deve retornar a sua estimativa para o valor da integral de f(x)\n",
        "    usando o metodo importance sampling\n",
        "    Escreva o seu codigo nas proximas linhas\n",
        "    \"\"\"\n",
        "    random.seed(Seed)\n",
        "    np.random.seed(Seed)\n",
        "\n",
        "    pontos = gera_ponto_exp(n)\n",
        "    array_estimador = f_sobre_g(pontos)\n",
        "    estima_importance_sampling = np.sum(array_estimador)/n\n",
        "\n",
        "    return estima_importance_sampling\n"
      ],
      "metadata": {
        "id": "GBVUICoJdP6G"
      },
      "execution_count": null,
      "outputs": []
    },
    {
      "cell_type": "code",
      "source": [
        "def control_variate(Seed=None, n=842):\n",
        "    \"\"\"\n",
        "    Esta funcao deve retornar a sua estimativa para o valor da integral de f(x)\n",
        "    usando o metodo control variate\n",
        "    Escreva o seu codigo nas proximas linhas\n",
        "    \"\"\"\n",
        "    random.seed(Seed)\n",
        "    np.random.seed(Seed)\n",
        "\n",
        "    pontos = gera_ponto(n)\n",
        "    array_f = f(pontos)\n",
        "    array_phi = phi(pontos)\n",
        "    integral_phi = 0.8 #calculada algebricamente\n",
        "    estima_control_variate = (np.mean(array_f) \n",
        "                              - np.mean(array_phi) \n",
        "                              + integral_phi)\n",
        "    \n",
        "    return estima_control_variate"
      ],
      "metadata": {
        "id": "cgYuyVf8dMmH"
      },
      "execution_count": null,
      "outputs": []
    },
    {
      "cell_type": "code",
      "source": [
        "def variancias (Seed=38, n=100):\n",
        "  \"\"\" \n",
        "  Funcao para calculo das variancias empiricas\n",
        "  \"\"\"  \n",
        "  random.seed(Seed)\n",
        "  np.random.seed(Seed)\n",
        "\n",
        "  #Variancia do metodo Crude\n",
        "  pontos = gera_ponto (n)\n",
        "  array_estimador = f(pontos)\n",
        "  var_crude = np.var(array_estimador, ddof=1)\n",
        "\n",
        "  #Variancia do metodo Hit or Miss\n",
        "  estima_HoM = hit_or_miss(Seed=Seed,n=n)\n",
        "  var_HoM = (estima_HoM * (1 - estima_HoM))\n",
        "\n",
        "  #Variancia do metodo Importance Sampling\n",
        "  \n",
        "  pontos = gera_ponto_exp(n)\n",
        "  array_estimador_IS = f_sobre_g(pontos)\n",
        "  var_IS = np.var(array_estimador_IS, ddof=1)\n",
        "\n",
        "  #Variancia do metodo Control Variate\n",
        "  pontos = gera_ponto(n)\n",
        "  array_f = f(pontos)\n",
        "  array_phi = phi(pontos)\n",
        "  var_CV = (np.var(array_f, ddof=1) \n",
        "            + np.var(array_phi, ddof=1) \n",
        "            - 2*np.cov(array_f,array_phi,ddof=1)[0,1])\n",
        "  \n",
        "  return var_crude, var_HoM, var_IS, var_CV"
      ],
      "metadata": {
        "id": "vAba4fyzP2Mg"
      },
      "execution_count": null,
      "outputs": []
    },
    {
      "cell_type": "code",
      "source": [
        "def main():\n",
        "    #Coloque seus testes aqui\n",
        "    z = 1.96\n",
        "    var_crude, var_hom, var_IS, var_CV = variancias()\n",
        "\n",
        "    crude_est = crude(Seed=38, n=100)\n",
        "    Ec = 0.0005 * crude_est\n",
        "    n_crude = math.ceil(var_crude * z**2/Ec**2)\n",
        "    t0 = time.time()\n",
        "    MCc = crude(Seed=38, n=n_crude)\n",
        "    t1 = time.time()\n",
        "    print('Método Crude = ',MCc)\n",
        "    print('Erro Crude =', Ec)\n",
        "    print('Variancia Crude = ',var_crude)\n",
        "    print('n_crude = ',n_crude)\n",
        "    print('Tempo Crude = ',t1 - t0, 'segundos')\n",
        "    print('Eficiência Crude = ', 1/((t1 - t0)*var_crude))\n",
        "\n",
        "    hom_est = hit_or_miss(Seed=38, n=100)\n",
        "    Ehom = 0.0005 * hom_est\n",
        "    nhom = math.ceil(var_hom * z**2/Ehom**2)\n",
        "    t0 = time.time()\n",
        "    MChom = hit_or_miss(Seed=38, n=nhom)\n",
        "    t1 = time.time()\n",
        "    print('\\nMétodo Hit or Miss = ',MChom)\n",
        "    print('Erro Hit or Miss =', Ehom)\n",
        "    print('Variancia Hit or Miss = ', var_hom)\n",
        "    print('n_hom = ',nhom)\n",
        "    print ('Tempo Hit or Miss = ',t1 - t0, 'segundos')\n",
        "    print('Eficiência Hit or Miss = ', 1/((t1 - t0)*var_hom))\n",
        "\n",
        "\n",
        "    IS_est = importance_sampling(Seed=38, n=100)\n",
        "    EIS = 0.0005 * IS_est\n",
        "    nIS = math.ceil(var_IS * z**2/EIS**2)\n",
        "    t0 = time.time()\n",
        "    MCIS = importance_sampling(Seed=38, n=nIS)\n",
        "    t1 = time.time() \n",
        "    print('\\nMétodo Importance Sampling = ',MCIS)\n",
        "    print('Erro Importance Sampling =', EIS)\n",
        "    print('Variancia Importance Sampling = ', var_IS)\n",
        "    print('n_IS = ',nIS)\n",
        "    print('Tempo Importance Sampling = ',t1 - t0, 'segundos')\n",
        "    print('Eficiência Importance Sampling = ', 1/((t1 - t0)*var_IS))\n",
        "\n",
        "    CV_est = control_variate(Seed=38, n=100)\n",
        "    ECV = 0.0005 * CV_est\n",
        "    nCV = math.ceil(var_CV * z**2/ECV**2)\n",
        "    t0 = time.time()\n",
        "    MCCV = control_variate(Seed=38, n=nCV)\n",
        "    t1 = time.time() \n",
        "    print('\\nMétodo Control Variate = ',MCCV)\n",
        "    print('Erro Control Variate =', ECV)\n",
        "    print('Variancia Control Variate = ', var_CV)\n",
        "    print('n_CV = ',nCV)\n",
        "    print('Tempo Control Variate = ',t1 - t0, 'segundos')\n",
        "    print('Eficiência Control Variate = ', 1/((t1 - t0)*var_CV))\n",
        "\n",
        "    #Erros\n",
        "    real = 0.78428\n",
        "    print('\\nErros')\n",
        "    print(abs(crude()-real)/real)\n",
        "    print(abs(hit_or_miss()-real)/real)\n",
        "    print(abs(importance_sampling()-real)/real)\n",
        "    print(abs(control_variate()-real)/real)\n",
        "\n",
        "if __name__ == \"___main__\":\n",
        "    main()"
      ],
      "metadata": {
        "id": "LgRGi8YmdSfL"
      },
      "execution_count": null,
      "outputs": []
    },
    {
      "cell_type": "code",
      "source": [
        "main()"
      ],
      "metadata": {
        "colab": {
          "base_uri": "https://localhost:8080/"
        },
        "id": "1f51O04JvdJ9",
        "outputId": "61d07aa5-d7b0-4a09-8f3e-ae3f691b9d5d"
      },
      "execution_count": null,
      "outputs": [
        {
          "output_type": "stream",
          "name": "stdout",
          "text": [
            "Método Crude =  0.7842812135628642\n",
            "Erro Crude = 0.00039245464965070826\n",
            "Variancia Crude =  0.014131472991153545\n",
            "n_crude =  352469\n",
            "Tempo Crude =  1.729335069656372 segundos\n",
            "Eficiência Crude =  40.91979209213054\n",
            "\n",
            "Método Hit or Miss =  0.7842861965066439\n",
            "Erro Hit or Miss = 0.00039000000000000005\n",
            "Variancia Hit or Miss =  0.17159999999999997\n",
            "n_hom =  4334113\n",
            "Tempo Hit or Miss =  21.48796820640564 segundos\n",
            "Eficiência Hit or Miss =  0.27119855034821894\n",
            "\n",
            "Método Importance Sampling =  0.7842799650312312\n",
            "Erro Importance Sampling = 0.0003922702094961755\n",
            "Variancia Importance Sampling =  0.00027160931634469525\n",
            "n_IS =  6781\n",
            "Tempo Importance Sampling =  0.03398895263671875 segundos\n",
            "Eficiência Importance Sampling =  108322.22086712052\n",
            "\n",
            "Método Control Variate =  0.7842739081121615\n",
            "Erro Control Variate = 0.0003920952746507083\n",
            "Variancia Control Variate =  3.3664518880260896e-05\n",
            "n_CV =  842\n",
            "Tempo Control Variate =  0.009617090225219727 segundos\n",
            "Eficiência Control Variate =  3088758.100647022\n",
            "\n",
            "Erros\n",
            "1.5473591882995896e-06\n",
            "7.900885709067377e-06\n",
            "4.4587097426323e-08\n",
            "7.76749099621408e-06\n"
          ]
        }
      ]
    }
  ]
}